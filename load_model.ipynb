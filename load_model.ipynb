{
 "cells": [
  {
   "cell_type": "markdown",
   "metadata": {},
   "source": [
    "Use this to load Tensorflow modelzoo models from export to run inference and inspect predictions.\n",
    "\n",
    "First some imports:"
   ]
  },
  {
   "cell_type": "code",
   "execution_count": 1,
   "metadata": {},
   "outputs": [],
   "source": [
    "import tensorflow as tf\n",
    "import numpy as np\n",
    "import os\n",
    "import time\n",
    "import matplotlib\n",
    "from matplotlib import patches, text, patheffects\n",
    "import matplotlib.pyplot as plt\n",
    "from PIL import Image, ImageDraw, ImageFont\n",
    "import io\n",
    "import image_tools\n",
    "import sys"
   ]
  },
  {
   "cell_type": "markdown",
   "metadata": {},
   "source": [
    "Constants"
   ]
  },
  {
   "cell_type": "code",
   "execution_count": 2,
   "metadata": {},
   "outputs": [
    {
     "name": "stdout",
     "output_type": "stream",
     "text": [
      "export/saved_model\n"
     ]
    }
   ],
   "source": [
    "THRESHOLD = 0.3\n",
    "MODEL_PATH = 'export/saved_model'\n",
    "IMAGE_PATH = \"C:/Users/Sigurd/OneDriveMS/FYS-3741-MASTER/data/data_yoloformat/test/images\""
   ]
  },
  {
   "cell_type": "markdown",
   "metadata": {},
   "source": [
    "Load functions"
   ]
  },
  {
   "cell_type": "code",
   "execution_count": 3,
   "metadata": {},
   "outputs": [],
   "source": [
    "def load_image_to_numpy_array(path):\n",
    "    \"\"\"\n",
    "    Load a single image to numpy array\n",
    "    \"\"\"\n",
    "    img_data = tf.io.gfile.GFile(path, 'rb').read()\n",
    "    image = Image.open(io.BytesIO(img_data))\n",
    "    (im_width, im_height) = image.size\n",
    "    return np.array(image.getdata()).reshape(im_height, im_width, 3).astype(np.uint8)\n",
    "\n",
    "def apply_threshold(detections, threshold):\n",
    "    \"\"\"\n",
    "    Remove predictions with a lower confidence than a defined threshold\n",
    "    \"\"\"\n",
    "    valid_confidence_scores = detections['detection_scores'][0].numpy()>=threshold\n",
    "\n",
    "    nr_detections = np.count_nonzero(valid_confidence_scores)\n",
    "    bboxes =  detections['detection_boxes'][0].numpy()[range(nr_detections)]\n",
    "    classes = detections['detection_classes'][0].numpy()[range(nr_detections)]\n",
    "    confidence_scores = detections['detection_scores'][0].numpy()[range(nr_detections)]\n",
    "\n",
    "    return nr_detections, confidence_scores, bboxes, classes\n",
    "\n",
    "def run_inference(image_np):\n",
    "    \"\"\"\n",
    "    Runs inference on a single image (numpy format)\n",
    "    \"\"\"\n",
    "    input_tensor = np.expand_dims(image_np, 0)\n",
    "    detections = detect_fn(input_tensor)\n",
    "    return apply_threshold(detections, THRESHOLD)"
   ]
  },
  {
   "cell_type": "markdown",
   "metadata": {},
   "source": [
    "Define label map for predictions"
   ]
  },
  {
   "cell_type": "code",
   "execution_count": 4,
   "metadata": {},
   "outputs": [],
   "source": [
    "category_index = {\n",
    "    1: {'id': 1, 'name': 'Porpoise'}\n",
    "}"
   ]
  },
  {
   "cell_type": "markdown",
   "metadata": {},
   "source": [
    "Load model from file:"
   ]
  },
  {
   "cell_type": "code",
   "execution_count": 5,
   "metadata": {},
   "outputs": [
    {
     "name": "stdout",
     "output_type": "stream",
     "text": [
      "Loaded model in: 69.67700219154358 seconds\n"
     ]
    }
   ],
   "source": [
    "start_time = time.time()\n",
    "tf.keras.backend.clear_session()\n",
    "#Loads model\n",
    "detect_fn = tf.saved_model.load(MODEL_PATH)\n",
    "end_time = time.time()\n",
    "elapsed_time = end_time - start_time\n",
    "print('Loaded model in: {} seconds'.format(elapsed_time))"
   ]
  },
  {
   "cell_type": "markdown",
   "metadata": {},
   "source": [
    "Run inference on model. Change plot to True if plotting"
   ]
  },
  {
   "cell_type": "code",
   "execution_count": 8,
   "metadata": {},
   "outputs": [
    {
     "name": "stdout",
     "output_type": "stream",
     "text": [
      "Processing Images:\n",
      " Image: 2164, Completion: 100%\n",
      " Process complete in 7435.7 seconds \n",
      "\n",
      "Writing to file...\n",
      "Writing to file complete.\n"
     ]
    }
   ],
   "source": [
    "\n",
    "\n",
    "#image_dir = 'C:/Users/Sigurd/OneDriveMS/FYS-3741-MASTER/data/data_yoloformat/test_images_for_programming/'\n",
    "image_dir = IMAGE_PATH\n",
    "image_names = os.listdir(image_dir)\n",
    "\n",
    "PLOT = False\n",
    "WRITE_TO_FILE = True\n",
    "\n",
    "json_result = []\n",
    "start_time = time.time()\n",
    "print('Processing Images:')\n",
    "for i in range(len(image_names)):\n",
    "    sys.stdout.write('\\r Image: {}, Completion: {}%'.format(i+1, round((i+1) / len(image_names)*100)))\n",
    "    #find path to current image\n",
    "    image_path = os.path.join(image_dir, image_names[i])\n",
    "    #load image to numpy array\n",
    "    image_np = load_image_to_numpy_array(image_path)\n",
    "    #run inference\n",
    "    nr_detections, confidence_scores, bboxes, labels = run_inference(image_np)\n",
    "    \n",
    "    test_image = image_tools.ImageTools(bbox = bboxes, image_tensor = image_np,\n",
    "                                            label = labels, figsize=(10,10),\n",
    "                                            outline = False)\n",
    "    \n",
    "    if WRITE_TO_FILE:\n",
    "        for i in range(nr_detections):\n",
    "            category_id = int(labels[i])\n",
    "            bbox = test_image.convert_bb(test_image.bbox)[i]\n",
    "            bbox = list(bbox.astype('float'))\n",
    "            score = confidence_scores[i].astype('float')\n",
    "\n",
    "            json_result.append({\n",
    "                                \"image_id\": image_path,\n",
    "                                \"category_id\": category_id,\n",
    "                                \"bbox\": bbox,\n",
    "                                \"score\": score\n",
    "                                })\n",
    "    \n",
    "\n",
    "    #Plotting\n",
    "    if PLOT:\n",
    "        test_image.plot_sample()\n",
    "    \n",
    "    sys.stdout.flush()\n",
    "\n",
    "end_time = time.time()\n",
    "print('\\n','Process complete in {} seconds \\n'.format(round(end_time - start_time, 1)))\n",
    "\n",
    "print('Writing to file...' )\n",
    "if WRITE_TO_FILE:\n",
    "    import json\n",
    "    #print(len(json_result))\n",
    "    with open('result.json', 'w') as outfile:\n",
    "        outfile.write('[')\n",
    "        outfile.write('\\n')\n",
    "        for i in range(len(json_result)):\n",
    "            json.dump(json_result[i], outfile, separators=(',', ':'))\n",
    "            if i < len(json_result) - 1:\n",
    "                outfile.write(',\\n')\n",
    "            else:\n",
    "                outfile.write('\\n')\n",
    "        outfile.write(']')\n",
    "\n",
    "print('Writing to file complete.')\n",
    "\n",
    "\n"
   ]
  }
 ],
 "metadata": {
  "interpreter": {
   "hash": "d8739be68005e784c2212d92f50c81e643544d0e9a156a327d81ddf9a3fea656"
  },
  "kernelspec": {
   "display_name": "Python 3.9.7 ('tf')",
   "language": "python",
   "name": "python3"
  },
  "language_info": {
   "codemirror_mode": {
    "name": "ipython",
    "version": 3
   },
   "file_extension": ".py",
   "mimetype": "text/x-python",
   "name": "python",
   "nbconvert_exporter": "python",
   "pygments_lexer": "ipython3",
   "version": "3.9.7"
  },
  "orig_nbformat": 4
 },
 "nbformat": 4,
 "nbformat_minor": 2
}
